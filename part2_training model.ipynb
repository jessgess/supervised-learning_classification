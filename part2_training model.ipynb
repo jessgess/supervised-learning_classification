{
 "cells": [
  {
   "cell_type": "code",
   "execution_count": 20,
   "metadata": {
    "collapsed": true
   },
   "outputs": [],
   "source": [
    "import pandas as pd\n",
    "import numpy as np\n",
    "import seaborn as sns\n",
    "import matplotlib.pyplot as plt\n",
    "%matplotlib inline\n",
    "from sklearn.neighbors import KNeighborsClassifier\n",
    "from sklearn.tree import DecisionTreeClassifier, export_graphviz\n",
    "from sklearn.model_selection import train_test_split\n",
    "from sklearn.metrics import confusion_matrix, classification_report\n",
    "from sklearn.model_selection import GridSearchCV\n",
    "from sklearn.metrics import accuracy_score"
   ]
  },
  {
   "cell_type": "code",
   "execution_count": 21,
   "metadata": {
    "scrolled": true
   },
   "outputs": [
    {
     "name": "stdout",
     "output_type": "stream",
     "text": [
      "(114928, 12)\n"
     ]
    }
   ],
   "source": [
    "data = pd.read_csv('data\\preproc.csv', encoding = 'ISO-8859-1')\n",
    "print(data.shape)"
   ]
  },
  {
   "cell_type": "code",
   "execution_count": 22,
   "metadata": {
    "scrolled": true
   },
   "outputs": [
    {
     "data": {
      "text/html": [
       "<div>\n",
       "<style>\n",
       "    .dataframe thead tr:only-child th {\n",
       "        text-align: right;\n",
       "    }\n",
       "\n",
       "    .dataframe thead th {\n",
       "        text-align: left;\n",
       "    }\n",
       "\n",
       "    .dataframe tbody tr th {\n",
       "        vertical-align: top;\n",
       "    }\n",
       "</style>\n",
       "<table border=\"1\" class=\"dataframe\">\n",
       "  <thead>\n",
       "    <tr style=\"text-align: right;\">\n",
       "      <th></th>\n",
       "      <th>Unnamed: 0</th>\n",
       "      <th>id</th>\n",
       "      <th>Unnamed: 0.1</th>\n",
       "      <th>goal</th>\n",
       "      <th>state</th>\n",
       "      <th>country</th>\n",
       "      <th>creator</th>\n",
       "      <th>location</th>\n",
       "      <th>category</th>\n",
       "      <th>time_to_state_change</th>\n",
       "      <th>pre_launch</th>\n",
       "      <th>post_launch</th>\n",
       "    </tr>\n",
       "  </thead>\n",
       "  <tbody>\n",
       "    <tr>\n",
       "      <th>0</th>\n",
       "      <td>0</td>\n",
       "      <td>663816109</td>\n",
       "      <td>0</td>\n",
       "      <td>17380.00</td>\n",
       "      <td>failed</td>\n",
       "      <td>US</td>\n",
       "      <td>200609383</td>\n",
       "      <td>Raleigh, NC</td>\n",
       "      <td>playing cards</td>\n",
       "      <td>1</td>\n",
       "      <td>9 days 00:00:00.000000000</td>\n",
       "      <td>30 days 00:00:00.000000000</td>\n",
       "    </tr>\n",
       "    <tr>\n",
       "      <th>1</th>\n",
       "      <td>1</td>\n",
       "      <td>1462931821</td>\n",
       "      <td>1</td>\n",
       "      <td>24000.00</td>\n",
       "      <td>failed</td>\n",
       "      <td>US</td>\n",
       "      <td>1179655388</td>\n",
       "      <td>Tokyo, Japan</td>\n",
       "      <td>pop</td>\n",
       "      <td>0</td>\n",
       "      <td>62 days 00:00:00.000000000</td>\n",
       "      <td>37 days 00:00:00.000000000</td>\n",
       "    </tr>\n",
       "    <tr>\n",
       "      <th>2</th>\n",
       "      <td>2</td>\n",
       "      <td>1724358498</td>\n",
       "      <td>2</td>\n",
       "      <td>37069.85</td>\n",
       "      <td>failed</td>\n",
       "      <td>CA</td>\n",
       "      <td>2078972315</td>\n",
       "      <td>Vancouver, Canada</td>\n",
       "      <td>vegan</td>\n",
       "      <td>0</td>\n",
       "      <td>8 days 00:00:00.000000000</td>\n",
       "      <td>30 days 00:00:00.000000000</td>\n",
       "    </tr>\n",
       "    <tr>\n",
       "      <th>3</th>\n",
       "      <td>3</td>\n",
       "      <td>314918941</td>\n",
       "      <td>3</td>\n",
       "      <td>1000.00</td>\n",
       "      <td>successful</td>\n",
       "      <td>US</td>\n",
       "      <td>863236098</td>\n",
       "      <td>Albuquerque, NM</td>\n",
       "      <td>mixed media</td>\n",
       "      <td>0</td>\n",
       "      <td>10 days 00:00:00.000000000</td>\n",
       "      <td>30 days 00:00:00.000000000</td>\n",
       "    </tr>\n",
       "    <tr>\n",
       "      <th>4</th>\n",
       "      <td>4</td>\n",
       "      <td>1766165140</td>\n",
       "      <td>4</td>\n",
       "      <td>1121.67</td>\n",
       "      <td>failed</td>\n",
       "      <td>GB</td>\n",
       "      <td>1226281117</td>\n",
       "      <td>Leicester, UK</td>\n",
       "      <td>children's books</td>\n",
       "      <td>1</td>\n",
       "      <td>4 days 00:00:00.000000000</td>\n",
       "      <td>30 days 00:00:00.000000000</td>\n",
       "    </tr>\n",
       "    <tr>\n",
       "      <th>5</th>\n",
       "      <td>5</td>\n",
       "      <td>228675817</td>\n",
       "      <td>5</td>\n",
       "      <td>223.86</td>\n",
       "      <td>canceled</td>\n",
       "      <td>GB</td>\n",
       "      <td>585969127</td>\n",
       "      <td>Brighton and Hove City, UK</td>\n",
       "      <td>woodworking</td>\n",
       "      <td>-1438560</td>\n",
       "      <td>0 days 00:00:00.000000000</td>\n",
       "      <td>30 days 00:00:00.000000000</td>\n",
       "    </tr>\n",
       "    <tr>\n",
       "      <th>6</th>\n",
       "      <td>6</td>\n",
       "      <td>1549710695</td>\n",
       "      <td>6</td>\n",
       "      <td>3085.22</td>\n",
       "      <td>successful</td>\n",
       "      <td>AU</td>\n",
       "      <td>334771300</td>\n",
       "      <td>Melbourne, AU</td>\n",
       "      <td>art books</td>\n",
       "      <td>0</td>\n",
       "      <td>10 days 00:00:00.000000000</td>\n",
       "      <td>30 days 00:00:00.000000000</td>\n",
       "    </tr>\n",
       "    <tr>\n",
       "      <th>7</th>\n",
       "      <td>7</td>\n",
       "      <td>1167950746</td>\n",
       "      <td>7</td>\n",
       "      <td>1000.00</td>\n",
       "      <td>successful</td>\n",
       "      <td>US</td>\n",
       "      <td>352521893</td>\n",
       "      <td>Tallahassee, FL</td>\n",
       "      <td>pop</td>\n",
       "      <td>3</td>\n",
       "      <td>0 days 00:00:00.000000000</td>\n",
       "      <td>23 days 00:00:00.000000000</td>\n",
       "    </tr>\n",
       "    <tr>\n",
       "      <th>8</th>\n",
       "      <td>8</td>\n",
       "      <td>388864071</td>\n",
       "      <td>8</td>\n",
       "      <td>7000.00</td>\n",
       "      <td>successful</td>\n",
       "      <td>US</td>\n",
       "      <td>1449706720</td>\n",
       "      <td>Rochester, NY</td>\n",
       "      <td>video games</td>\n",
       "      <td>0</td>\n",
       "      <td>23 days 00:00:00.000000000</td>\n",
       "      <td>30 days 00:00:00.000000000</td>\n",
       "    </tr>\n",
       "    <tr>\n",
       "      <th>9</th>\n",
       "      <td>9</td>\n",
       "      <td>553676588</td>\n",
       "      <td>9</td>\n",
       "      <td>550.00</td>\n",
       "      <td>successful</td>\n",
       "      <td>US</td>\n",
       "      <td>1777736873</td>\n",
       "      <td>Manchester, NH</td>\n",
       "      <td>sculpture</td>\n",
       "      <td>1</td>\n",
       "      <td>25 days 00:00:00.000000000</td>\n",
       "      <td>30 days 00:00:00.000000000</td>\n",
       "    </tr>\n",
       "  </tbody>\n",
       "</table>\n",
       "</div>"
      ],
      "text/plain": [
       "   Unnamed: 0          id  Unnamed: 0.1      goal       state country  \\\n",
       "0           0   663816109             0  17380.00      failed      US   \n",
       "1           1  1462931821             1  24000.00      failed      US   \n",
       "2           2  1724358498             2  37069.85      failed      CA   \n",
       "3           3   314918941             3   1000.00  successful      US   \n",
       "4           4  1766165140             4   1121.67      failed      GB   \n",
       "5           5   228675817             5    223.86    canceled      GB   \n",
       "6           6  1549710695             6   3085.22  successful      AU   \n",
       "7           7  1167950746             7   1000.00  successful      US   \n",
       "8           8   388864071             8   7000.00  successful      US   \n",
       "9           9   553676588             9    550.00  successful      US   \n",
       "\n",
       "      creator                    location          category  \\\n",
       "0   200609383                 Raleigh, NC     playing cards   \n",
       "1  1179655388                Tokyo, Japan               pop   \n",
       "2  2078972315           Vancouver, Canada             vegan   \n",
       "3   863236098             Albuquerque, NM       mixed media   \n",
       "4  1226281117               Leicester, UK  children's books   \n",
       "5   585969127  Brighton and Hove City, UK       woodworking   \n",
       "6   334771300               Melbourne, AU         art books   \n",
       "7   352521893             Tallahassee, FL               pop   \n",
       "8  1449706720               Rochester, NY       video games   \n",
       "9  1777736873              Manchester, NH         sculpture   \n",
       "\n",
       "   time_to_state_change                  pre_launch  \\\n",
       "0                     1   9 days 00:00:00.000000000   \n",
       "1                     0  62 days 00:00:00.000000000   \n",
       "2                     0   8 days 00:00:00.000000000   \n",
       "3                     0  10 days 00:00:00.000000000   \n",
       "4                     1   4 days 00:00:00.000000000   \n",
       "5              -1438560   0 days 00:00:00.000000000   \n",
       "6                     0  10 days 00:00:00.000000000   \n",
       "7                     3   0 days 00:00:00.000000000   \n",
       "8                     0  23 days 00:00:00.000000000   \n",
       "9                     1  25 days 00:00:00.000000000   \n",
       "\n",
       "                  post_launch  \n",
       "0  30 days 00:00:00.000000000  \n",
       "1  37 days 00:00:00.000000000  \n",
       "2  30 days 00:00:00.000000000  \n",
       "3  30 days 00:00:00.000000000  \n",
       "4  30 days 00:00:00.000000000  \n",
       "5  30 days 00:00:00.000000000  \n",
       "6  30 days 00:00:00.000000000  \n",
       "7  23 days 00:00:00.000000000  \n",
       "8  30 days 00:00:00.000000000  \n",
       "9  30 days 00:00:00.000000000  "
      ]
     },
     "execution_count": 22,
     "metadata": {},
     "output_type": "execute_result"
    }
   ],
   "source": [
    "pd.set_option('display.max_columns', 12)\n",
    "data.head(10)"
   ]
  },
  {
   "cell_type": "code",
   "execution_count": 23,
   "metadata": {
    "collapsed": true
   },
   "outputs": [],
   "source": [
    "#removing the zeros from the datetime columns\n",
    "def dates_as_str_without_zeros(data):\n",
    "    df = data.copy()\n",
    "    df.pre_launch.replace({r'((\\d+) days 00:00:00.0*)': r'\\2'}, inplace=True, regex=True)\n",
    "    df.post_launch.replace({r'((\\d+) days 00:00:00.0*)': r'\\2'}, inplace=True, regex=True)\n",
    "    \n",
    "    return df"
   ]
  },
  {
   "cell_type": "code",
   "execution_count": 24,
   "metadata": {
    "collapsed": true
   },
   "outputs": [],
   "source": [
    "data = dates_as_str_without_zeros(data)"
   ]
  },
  {
   "cell_type": "code",
   "execution_count": 25,
   "metadata": {
    "collapsed": true
   },
   "outputs": [],
   "source": [
    "data['pre_launch'] = data['pre_launch'].astype(int)\n",
    "data['post_launch'] = data['post_launch'].astype(int)"
   ]
  },
  {
   "cell_type": "code",
   "execution_count": 7,
   "metadata": {},
   "outputs": [
    {
     "data": {
      "text/plain": [
       "<matplotlib.axes._subplots.AxesSubplot at 0xba10048>"
      ]
     },
     "execution_count": 7,
     "metadata": {},
     "output_type": "execute_result"
    },
    {
     "data": {
      "image/png": "[encoded data removed]",
      "text/plain": [
       "<matplotlib.figure.Figure at 0xba100b8>"
      ]
     },
     "metadata": {},
     "output_type": "display_data"
    }
   ],
   "source": [
    "#sns.boxplot(x=data.state, y=data.pre_launch) #this column does not seem to be very usefull\n",
    "sns.boxplot(x=data.state, y=data.post_launch) #this one seems more useful"
   ]
  },
  {
   "cell_type": "code",
   "execution_count": 26,
   "metadata": {
    "collapsed": true,
    "scrolled": true
   },
   "outputs": [],
   "source": [
    "#extracting the Y values\n",
    "target = (data.state == 'successful').astype(int)"
   ]
  },
  {
   "cell_type": "code",
   "execution_count": 27,
   "metadata": {
    "collapsed": true
   },
   "outputs": [],
   "source": [
    "#droping the target column from the data\n",
    "data.drop('state', axis=1, inplace=True)"
   ]
  },
  {
   "cell_type": "markdown",
   "metadata": {},
   "source": [
    "data1: Trying percision of the model by narrowing down the locaitons -> only taking the last part in the location, which refers to the city/town or country and not the previous part"
   ]
  },
  {
   "cell_type": "code",
   "execution_count": 28,
   "metadata": {
    "collapsed": true
   },
   "outputs": [],
   "source": [
    "data1 = data.copy()\n",
    "data1.location.replace({r'(.*,\\s([A-Za-z]*\\s*[A-Za-z]*\\s*[A-Za-z]*\\s*[A-Za-z.*]*$))' : r'\\2'}, regex=True, inplace=True)"
   ]
  },
  {
   "cell_type": "markdown",
   "metadata": {},
   "source": [
    "data 2: Trying percision of the model by changing the locations that appear less than 50 times to 'Rare'"
   ]
  },
  {
   "cell_type": "code",
   "execution_count": 9,
   "metadata": {
    "collapsed": true
   },
   "outputs": [],
   "source": [
    "data2 = data.copy()\n",
    "thresh = 50\n",
    "counts = data2['location'].value_counts()\n",
    "to_remove = counts[counts <= thresh].index\n",
    "data2['location'].replace(to_remove, 'Rare', inplace=True)"
   ]
  },
  {
   "cell_type": "code",
   "execution_count": null,
   "metadata": {
    "collapsed": true
   },
   "outputs": [],
   "source": [
    "#from sklearn import preprocessing\n",
    "#le = preprocessing.LabelEncoder()\n",
    "#data['blurb'] = le.fit_transform(data['blurb']) "
   ]
  },
  {
   "cell_type": "code",
   "execution_count": 10,
   "metadata": {},
   "outputs": [
    {
     "data": {
      "text/html": [
       "<div>\n",
       "<style>\n",
       "    .dataframe thead tr:only-child th {\n",
       "        text-align: right;\n",
       "    }\n",
       "\n",
       "    .dataframe thead th {\n",
       "        text-align: left;\n",
       "    }\n",
       "\n",
       "    .dataframe tbody tr th {\n",
       "        vertical-align: top;\n",
       "    }\n",
       "</style>\n",
       "<table border=\"1\" class=\"dataframe\">\n",
       "  <thead>\n",
       "    <tr style=\"text-align: right;\">\n",
       "      <th></th>\n",
       "      <th>id</th>\n",
       "      <th>goal</th>\n",
       "      <th>country</th>\n",
       "      <th>creator</th>\n",
       "      <th>location</th>\n",
       "      <th>category</th>\n",
       "      <th>time_to_state_change</th>\n",
       "      <th>pre_launch</th>\n",
       "      <th>post_launch</th>\n",
       "    </tr>\n",
       "  </thead>\n",
       "  <tbody>\n",
       "    <tr>\n",
       "      <th>0</th>\n",
       "      <td>663816109</td>\n",
       "      <td>17380.00</td>\n",
       "      <td>US</td>\n",
       "      <td>200609383</td>\n",
       "      <td>NC</td>\n",
       "      <td>playing cards</td>\n",
       "      <td>1</td>\n",
       "      <td>9</td>\n",
       "      <td>30</td>\n",
       "    </tr>\n",
       "    <tr>\n",
       "      <th>1</th>\n",
       "      <td>1462931821</td>\n",
       "      <td>24000.00</td>\n",
       "      <td>US</td>\n",
       "      <td>1179655388</td>\n",
       "      <td>Japan</td>\n",
       "      <td>pop</td>\n",
       "      <td>0</td>\n",
       "      <td>62</td>\n",
       "      <td>37</td>\n",
       "    </tr>\n",
       "    <tr>\n",
       "      <th>2</th>\n",
       "      <td>1724358498</td>\n",
       "      <td>37069.85</td>\n",
       "      <td>CA</td>\n",
       "      <td>2078972315</td>\n",
       "      <td>Canada</td>\n",
       "      <td>vegan</td>\n",
       "      <td>0</td>\n",
       "      <td>8</td>\n",
       "      <td>30</td>\n",
       "    </tr>\n",
       "    <tr>\n",
       "      <th>3</th>\n",
       "      <td>314918941</td>\n",
       "      <td>1000.00</td>\n",
       "      <td>US</td>\n",
       "      <td>863236098</td>\n",
       "      <td>NM</td>\n",
       "      <td>mixed media</td>\n",
       "      <td>0</td>\n",
       "      <td>10</td>\n",
       "      <td>30</td>\n",
       "    </tr>\n",
       "    <tr>\n",
       "      <th>4</th>\n",
       "      <td>1766165140</td>\n",
       "      <td>1121.67</td>\n",
       "      <td>GB</td>\n",
       "      <td>1226281117</td>\n",
       "      <td>UK</td>\n",
       "      <td>children's books</td>\n",
       "      <td>1</td>\n",
       "      <td>4</td>\n",
       "      <td>30</td>\n",
       "    </tr>\n",
       "  </tbody>\n",
       "</table>\n",
       "</div>"
      ],
      "text/plain": [
       "           id      goal country     creator location          category  \\\n",
       "0   663816109  17380.00      US   200609383       NC     playing cards   \n",
       "1  1462931821  24000.00      US  1179655388    Japan               pop   \n",
       "2  1724358498  37069.85      CA  2078972315   Canada             vegan   \n",
       "3   314918941   1000.00      US   863236098       NM       mixed media   \n",
       "4  1766165140   1121.67      GB  1226281117       UK  children's books   \n",
       "\n",
       "   time_to_state_change  pre_launch  post_launch  \n",
       "0                     1           9           30  \n",
       "1                     0          62           37  \n",
       "2                     0           8           30  \n",
       "3                     0          10           30  \n",
       "4                     1           4           30  "
      ]
     },
     "execution_count": 10,
     "metadata": {},
     "output_type": "execute_result"
    }
   ],
   "source": [
    "data1.head()"
   ]
  },
  {
   "cell_type": "code",
   "execution_count": 31,
   "metadata": {
    "collapsed": true
   },
   "outputs": [],
   "source": [
    "#data1 = pd.get_dummies(data1, columns=['category', 'location', 'country'])"
   ]
  },
  {
   "cell_type": "code",
   "execution_count": 12,
   "metadata": {
    "collapsed": true
   },
   "outputs": [],
   "source": [
    "data2 = pd.get_dummies(data2, columns=['category', 'location', 'country'])"
   ]
  },
  {
   "cell_type": "code",
   "execution_count": 28,
   "metadata": {},
   "outputs": [
    {
     "data": {
      "text/plain": [
       "((114928, 420), (114928, 388))"
      ]
     },
     "execution_count": 28,
     "metadata": {},
     "output_type": "execute_result"
    }
   ],
   "source": [
    "#data2.shape, data1.shape"
   ]
  },
  {
   "cell_type": "code",
   "execution_count": 39,
   "metadata": {
    "collapsed": true
   },
   "outputs": [],
   "source": [
    "data1 = data1[['id', 'goal','time_to_state_change', 'pre_launch', 'post_launch']]\n",
    "data1 = data1.join(dfr).set_index('id')"
   ]
  },
  {
   "cell_type": "code",
   "execution_count": 40,
   "metadata": {},
   "outputs": [
    {
     "data": {
      "text/html": [
       "<div>\n",
       "<style>\n",
       "    .dataframe thead tr:only-child th {\n",
       "        text-align: right;\n",
       "    }\n",
       "\n",
       "    .dataframe thead th {\n",
       "        text-align: left;\n",
       "    }\n",
       "\n",
       "    .dataframe tbody tr th {\n",
       "        vertical-align: top;\n",
       "    }\n",
       "</style>\n",
       "<table border=\"1\" class=\"dataframe\">\n",
       "  <thead>\n",
       "    <tr style=\"text-align: right;\">\n",
       "      <th></th>\n",
       "      <th>goal</th>\n",
       "      <th>time_to_state_change</th>\n",
       "      <th>pre_launch</th>\n",
       "      <th>post_launch</th>\n",
       "      <th>category_playing cards</th>\n",
       "      <th>category_pop</th>\n",
       "      <th>...</th>\n",
       "      <th>country_DK</th>\n",
       "      <th>country_AT</th>\n",
       "      <th>country_BE</th>\n",
       "      <th>country_HK</th>\n",
       "      <th>country_SG</th>\n",
       "      <th>country_LU</th>\n",
       "    </tr>\n",
       "    <tr>\n",
       "      <th>id</th>\n",
       "      <th></th>\n",
       "      <th></th>\n",
       "      <th></th>\n",
       "      <th></th>\n",
       "      <th></th>\n",
       "      <th></th>\n",
       "      <th></th>\n",
       "      <th></th>\n",
       "      <th></th>\n",
       "      <th></th>\n",
       "      <th></th>\n",
       "      <th></th>\n",
       "      <th></th>\n",
       "    </tr>\n",
       "  </thead>\n",
       "  <tbody>\n",
       "    <tr>\n",
       "      <th>663816109</th>\n",
       "      <td>17380.00</td>\n",
       "      <td>1</td>\n",
       "      <td>9</td>\n",
       "      <td>30</td>\n",
       "      <td>1.0</td>\n",
       "      <td>0.0</td>\n",
       "      <td>...</td>\n",
       "      <td>0.0</td>\n",
       "      <td>0.0</td>\n",
       "      <td>0.0</td>\n",
       "      <td>0.0</td>\n",
       "      <td>0.0</td>\n",
       "      <td>0.0</td>\n",
       "    </tr>\n",
       "    <tr>\n",
       "      <th>1462931821</th>\n",
       "      <td>24000.00</td>\n",
       "      <td>0</td>\n",
       "      <td>62</td>\n",
       "      <td>37</td>\n",
       "      <td>0.0</td>\n",
       "      <td>1.0</td>\n",
       "      <td>...</td>\n",
       "      <td>0.0</td>\n",
       "      <td>0.0</td>\n",
       "      <td>0.0</td>\n",
       "      <td>0.0</td>\n",
       "      <td>0.0</td>\n",
       "      <td>0.0</td>\n",
       "    </tr>\n",
       "    <tr>\n",
       "      <th>1724358498</th>\n",
       "      <td>37069.85</td>\n",
       "      <td>0</td>\n",
       "      <td>8</td>\n",
       "      <td>30</td>\n",
       "      <td>0.0</td>\n",
       "      <td>0.0</td>\n",
       "      <td>...</td>\n",
       "      <td>0.0</td>\n",
       "      <td>0.0</td>\n",
       "      <td>0.0</td>\n",
       "      <td>0.0</td>\n",
       "      <td>0.0</td>\n",
       "      <td>0.0</td>\n",
       "    </tr>\n",
       "    <tr>\n",
       "      <th>314918941</th>\n",
       "      <td>1000.00</td>\n",
       "      <td>0</td>\n",
       "      <td>10</td>\n",
       "      <td>30</td>\n",
       "      <td>0.0</td>\n",
       "      <td>0.0</td>\n",
       "      <td>...</td>\n",
       "      <td>0.0</td>\n",
       "      <td>0.0</td>\n",
       "      <td>0.0</td>\n",
       "      <td>0.0</td>\n",
       "      <td>0.0</td>\n",
       "      <td>0.0</td>\n",
       "    </tr>\n",
       "    <tr>\n",
       "      <th>1766165140</th>\n",
       "      <td>1121.67</td>\n",
       "      <td>1</td>\n",
       "      <td>4</td>\n",
       "      <td>30</td>\n",
       "      <td>0.0</td>\n",
       "      <td>0.0</td>\n",
       "      <td>...</td>\n",
       "      <td>0.0</td>\n",
       "      <td>0.0</td>\n",
       "      <td>0.0</td>\n",
       "      <td>0.0</td>\n",
       "      <td>0.0</td>\n",
       "      <td>0.0</td>\n",
       "    </tr>\n",
       "  </tbody>\n",
       "</table>\n",
       "<p>5 rows × 386 columns</p>\n",
       "</div>"
      ],
      "text/plain": [
       "                goal  time_to_state_change  pre_launch  post_launch  \\\n",
       "id                                                                    \n",
       "663816109   17380.00                     1           9           30   \n",
       "1462931821  24000.00                     0          62           37   \n",
       "1724358498  37069.85                     0           8           30   \n",
       "314918941    1000.00                     0          10           30   \n",
       "1766165140   1121.67                     1           4           30   \n",
       "\n",
       "            category_playing cards  category_pop     ...      country_DK  \\\n",
       "id                                                   ...                   \n",
       "663816109                      1.0           0.0     ...             0.0   \n",
       "1462931821                     0.0           1.0     ...             0.0   \n",
       "1724358498                     0.0           0.0     ...             0.0   \n",
       "314918941                      0.0           0.0     ...             0.0   \n",
       "1766165140                     0.0           0.0     ...             0.0   \n",
       "\n",
       "            country_AT  country_BE  country_HK  country_SG  country_LU  \n",
       "id                                                                      \n",
       "663816109          0.0         0.0         0.0         0.0         0.0  \n",
       "1462931821         0.0         0.0         0.0         0.0         0.0  \n",
       "1724358498         0.0         0.0         0.0         0.0         0.0  \n",
       "314918941          0.0         0.0         0.0         0.0         0.0  \n",
       "1766165140         0.0         0.0         0.0         0.0         0.0  \n",
       "\n",
       "[5 rows x 386 columns]"
      ]
     },
     "execution_count": 40,
     "metadata": {},
     "output_type": "execute_result"
    }
   ],
   "source": [
    "#data1.reset_index(inplace=True)\n",
    "data1.head()"
   ]
  },
  {
   "cell_type": "markdown",
   "metadata": {
    "collapsed": true
   },
   "source": [
    "************ data2 gives slightly better results thatn data1 ************"
   ]
  },
  {
   "cell_type": "code",
   "execution_count": 18,
   "metadata": {
    "scrolled": true
   },
   "outputs": [
    {
     "name": "stdout",
     "output_type": "stream",
     "text": [
      "(91942, 386) (91942,)\n",
      "(22986, 386) (22986,)\n"
     ]
    }
   ],
   "source": [
    "x_train, x_test, y_train, y_test = train_test_split(data1, target, \n",
    "                                                    test_size=0.2, \n",
    "                                                    random_state=1919, \n",
    "                                                    stratify=target)\n",
    "print(x_train.shape, y_train.shape)\n",
    "print(x_test.shape, y_test.shape)"
   ]
  },
  {
   "cell_type": "code",
   "execution_count": 34,
   "metadata": {},
   "outputs": [
    {
     "data": {
      "text/plain": [
       "DecisionTreeClassifier(class_weight=None, criterion='gini', max_depth=14,\n",
       "            max_features=None, max_leaf_nodes=None,\n",
       "            min_impurity_decrease=0.0, min_impurity_split=None,\n",
       "            min_samples_leaf=1, min_samples_split=2,\n",
       "            min_weight_fraction_leaf=0.0, presort=False, random_state=None,\n",
       "            splitter='best')"
      ]
     },
     "execution_count": 34,
     "metadata": {},
     "output_type": "execute_result"
    }
   ],
   "source": [
    "param = {'max_depth': [12, 14], \n",
    "         'criterion': ['gini'], \n",
    "         'class_weight': [None, 'balanced']}\n",
    "dtc = DecisionTreeClassifier()\n",
    "dtc_gcv = GridSearchCV(dtc, param, cv=5)\n",
    "\n",
    "dtc_gcv.fit(x_train, y_train)\n",
    "\n",
    "dtc_gcv.best_estimator_"
   ]
  },
  {
   "cell_type": "code",
   "execution_count": 35,
   "metadata": {},
   "outputs": [
    {
     "name": "stdout",
     "output_type": "stream",
     "text": [
      "[[9944 2530]\n",
      " [3768 6744]]\n",
      "             precision    recall  f1-score   support\n",
      "\n",
      "          0      0.725     0.797     0.759     12474\n",
      "          1      0.727     0.642     0.682     10512\n",
      "\n",
      "avg / total      0.726     0.726     0.724     22986\n",
      "\n"
     ]
    },
    {
     "data": {
      "text/plain": [
       "0.72600713477769074"
      ]
     },
     "execution_count": 35,
     "metadata": {},
     "output_type": "execute_result"
    }
   ],
   "source": [
    "y_pred_dtc = dtc_gcv.predict(x_test)\n",
    "print(confusion_matrix(y_test, y_pred_dtc))\n",
    "print(classification_report(y_test, y_pred_dtc, digits=3))\n",
    "accuracy_score(y_test, y_pred_dtc)"
   ]
  },
  {
   "cell_type": "code",
   "execution_count": 36,
   "metadata": {
    "collapsed": true,
    "scrolled": true
   },
   "outputs": [],
   "source": [
    "important_feat = dtc_gcv.best_estimator_.feature_importances_.tolist()\n",
    "all_feats = list(data2)\n",
    "feats = list(zip(all_feats, important_feat))\n",
    "clean_feats = [x for x, y in feats if y > 0]\n",
    "clean_feats"
   ]
  },
  {
   "cell_type": "code",
   "execution_count": 19,
   "metadata": {},
   "outputs": [
    {
     "name": "stdout",
     "output_type": "stream",
     "text": [
      "             precision    recall  f1-score   support\n",
      "\n",
      "          0      0.711     0.833     0.767     12474\n",
      "          1      0.751     0.598     0.666     10512\n",
      "\n",
      "avg / total      0.729     0.726     0.721     22986\n",
      "\n"
     ]
    },
    {
     "name": "stderr",
     "output_type": "stream",
     "text": [
      "/Users/Nargess/anaconda/lib/python3.6/site-packages/sklearn/discriminant_analysis.py:388: UserWarning: Variables are collinear.\n",
      "  warnings.warn(\"Variables are collinear.\")\n"
     ]
    },
    {
     "data": {
      "text/plain": [
       "0.72557208735752199"
      ]
     },
     "execution_count": 19,
     "metadata": {},
     "output_type": "execute_result"
    }
   ],
   "source": [
    "from sklearn.discriminant_analysis import LinearDiscriminantAnalysis, QuadraticDiscriminantAnalysis\n",
    "\n",
    "lda = LinearDiscriminantAnalysis()\n",
    "lda.fit(x_train, y_train)\n",
    "\n",
    "y_pred_lda = lda.predict(x_test)\n",
    "print(classification_report(y_test, y_pred_lda, digits=3))\n",
    "accuracy_score(y_test, y_pred_lda)"
   ]
  },
  {
   "cell_type": "code",
   "execution_count": 32,
   "metadata": {
    "collapsed": true
   },
   "outputs": [],
   "source": [
    "#since LDA does not give the important features as it uses all the features to get results, Im masking the data with important \n",
    "#features from the tree and see if LDA produces ok results using only these features\n",
    "data3 = data2[clean_feats]"
   ]
  },
  {
   "cell_type": "code",
   "execution_count": 33,
   "metadata": {},
   "outputs": [
    {
     "name": "stdout",
     "output_type": "stream",
     "text": [
      "(91942, 27) (91942,)\n",
      "(22986, 27) (22986,)\n"
     ]
    }
   ],
   "source": [
    "x3_train, x3_test, y3_train, y3_test = train_test_split(data3, target, \n",
    "                                                    test_size=0.2, \n",
    "                                                    random_state=1919, \n",
    "                                                    stratify=target)\n",
    "print(x3_train.shape, y3_train.shape)\n",
    "print(x3_test.shape, y3_test.shape)"
   ]
  },
  {
   "cell_type": "code",
   "execution_count": 35,
   "metadata": {},
   "outputs": [
    {
     "name": "stdout",
     "output_type": "stream",
     "text": [
      "             precision    recall  f1-score   support\n",
      "\n",
      "          0      0.672     0.896     0.768     12474\n",
      "          1      0.795     0.480     0.599     10512\n",
      "\n",
      "avg / total      0.728     0.706     0.690     22986\n",
      "\n"
     ]
    },
    {
     "data": {
      "text/plain": [
       "0.705646915513791"
      ]
     },
     "execution_count": 35,
     "metadata": {},
     "output_type": "execute_result"
    }
   ],
   "source": [
    "from sklearn.discriminant_analysis import LinearDiscriminantAnalysis, QuadraticDiscriminantAnalysis\n",
    "\n",
    "lda3 = LinearDiscriminantAnalysis()\n",
    "lda3.fit(x3_train, y3_train)\n",
    "\n",
    "y_pred_lda3 = lda3.predict(x3_test)\n",
    "print(classification_report(y3_test, y_pred_lda3, digits=3))\n",
    "accuracy_score(y3_test, y_pred_lda3)"
   ]
  },
  {
   "cell_type": "code",
   "execution_count": 16,
   "metadata": {},
   "outputs": [
    {
     "data": {
      "text/plain": [
       "DecisionTreeClassifier(class_weight=None, criterion='gini', max_depth=11,\n",
       "            max_features=None, max_leaf_nodes=None,\n",
       "            min_impurity_split=1e-07, min_samples_leaf=1,\n",
       "            min_samples_split=2, min_weight_fraction_leaf=0.0,\n",
       "            presort=False, random_state=None, splitter='best')"
      ]
     },
     "execution_count": 16,
     "metadata": {},
     "output_type": "execute_result"
    }
   ],
   "source": [
    "dtc = DecisionTreeClassifier(class_weight=None, criterion='gini', max_depth=11,\n",
    "            max_features=None, max_leaf_nodes=None,\n",
    "            min_impurity_split=1e-07, min_samples_leaf=1,\n",
    "            min_samples_split=2, min_weight_fraction_leaf=0.0,\n",
    "            presort=False, random_state=None, splitter='best')\n",
    "dtc.fit(x_train, y_train)"
   ]
  },
  {
   "cell_type": "code",
   "execution_count": 17,
   "metadata": {
    "collapsed": true
   },
   "outputs": [],
   "source": [
    "#visualising DT's result\n",
    "def visualize_tree(tree, feature_names):\n",
    "    \"\"\"Create tree png using graphviz.\n",
    "    tree -- scikit-learn DecsisionTree.\n",
    "    feature_names -- list of feature names.\n",
    "    \"\"\"\n",
    "    with open(\"dt2.dot\", 'w') as f:\n",
    "        export_graphviz(tree, out_file=f,\n",
    "                        feature_names=feature_names)\n",
    "\n",
    "    command = [\"dot\", \"-Tpng\", \"dt2.dot\", \"-o\", \"dt2.png\"]\n",
    "    try:\n",
    "        subprocess.check_call(command)\n",
    "    except:\n",
    "        exit(\"Could not run dot, ie graphviz, to \"\n",
    "             \"produce visualization\")\n",
    "\n",
    "cols = data.columns.tolist()\n",
    "visualize_tree(dtc, cols)"
   ]
  },
  {
   "cell_type": "code",
   "execution_count": 26,
   "metadata": {},
   "outputs": [
    {
     "data": {
      "text/plain": [
       "KNeighborsClassifier(algorithm='auto', leaf_size=30, metric='minkowski',\n",
       "           metric_params=None, n_jobs=1, n_neighbors=2, p=2,\n",
       "           weights='uniform')"
      ]
     },
     "execution_count": 26,
     "metadata": {},
     "output_type": "execute_result"
    }
   ],
   "source": [
    "param = {'n_neighbors': [2, 3, 4, 5]}\n",
    "knn = KNeighborsClassifier()\n",
    "knn_gcv = GridSearchCV(knn, param, cv=5)\n",
    "\n",
    "knn_gcv.fit(x_train, y_train)\n",
    "knn_gcv.best_estimator_"
   ]
  },
  {
   "cell_type": "code",
   "execution_count": 37,
   "metadata": {},
   "outputs": [
    {
     "ename": "NameError",
     "evalue": "name 'knn_gcv' is not defined",
     "output_type": "error",
     "traceback": [
      "\u001b[0;31m---------------------------------------------------------------------------\u001b[0m",
      "\u001b[0;31mNameError\u001b[0m                                 Traceback (most recent call last)",
      "\u001b[0;32m<ipython-input-37-3b48cc375b00>\u001b[0m in \u001b[0;36m<module>\u001b[0;34m()\u001b[0m\n\u001b[0;32m----> 1\u001b[0;31m \u001b[0my_pred_knn\u001b[0m \u001b[0;34m=\u001b[0m \u001b[0mknn_gcv\u001b[0m\u001b[0;34m.\u001b[0m\u001b[0mpredict\u001b[0m\u001b[0;34m(\u001b[0m\u001b[0mx_test\u001b[0m\u001b[0;34m)\u001b[0m\u001b[0;34m\u001b[0m\u001b[0m\n\u001b[0m\u001b[1;32m      2\u001b[0m \u001b[0;31m#print(classification_report(y_test, y_pred_knn, digits=3))\u001b[0m\u001b[0;34m\u001b[0m\u001b[0;34m\u001b[0m\u001b[0m\n",
      "\u001b[0;31mNameError\u001b[0m: name 'knn_gcv' is not defined"
     ]
    }
   ],
   "source": [
    "y_pred_knn = knn_gcv.predict(x_test)\n",
    "#print(classification_report(y_test, y_pred_knn, digits=3))"
   ]
  },
  {
   "cell_type": "code",
   "execution_count": 59,
   "metadata": {
    "collapsed": true
   },
   "outputs": [],
   "source": [
    "from sklearn.naive_bayes import MultinomialNB\n",
    "mnb = MultinomialNB()\n",
    "#mnb.fit(x_train, y_train) #doesnt work cause its only for positive values\n",
    "\n",
    "#y_pred_mnb = mnb.predict(x_test)\n",
    "#print(classification_report(y_test, y_pred_mnb))"
   ]
  },
  {
   "cell_type": "code",
   "execution_count": 18,
   "metadata": {
    "collapsed": true
   },
   "outputs": [],
   "source": [
    "from sklearn.naive_bayes import GaussianNB\n",
    "gnb = GaussianNB()\n",
    "gnb.fit(x_train, y_train)\n",
    "\n",
    "y_pred_gnb = gnb.predict(x_test)\n",
    "#print(classification_report(y_test, y_pred_gnb))"
   ]
  },
  {
   "cell_type": "code",
   "execution_count": 22,
   "metadata": {},
   "outputs": [
    {
     "name": "stdout",
     "output_type": "stream",
     "text": [
      "             precision    recall  f1-score   support\n",
      "\n",
      "          0      0.716     0.831     0.769     12474\n",
      "          1      0.752     0.609     0.673     10512\n",
      "\n",
      "avg / total      0.733     0.730     0.725     22986\n",
      "\n"
     ]
    },
    {
     "name": "stderr",
     "output_type": "stream",
     "text": [
      "/Users/Nargess/anaconda/lib/python3.6/site-packages/sklearn/discriminant_analysis.py:387: UserWarning: Variables are collinear.\n",
      "  warnings.warn(\"Variables are collinear.\")\n"
     ]
    },
    {
     "data": {
      "text/plain": [
       "0.72961802836509182"
      ]
     },
     "execution_count": 22,
     "metadata": {},
     "output_type": "execute_result"
    }
   ],
   "source": [
    "from sklearn.discriminant_analysis import LinearDiscriminantAnalysis, QuadraticDiscriminantAnalysis\n",
    "\n",
    "lda = LinearDiscriminantAnalysis()\n",
    "lda.fit(x_train, y_train)\n",
    "\n",
    "y_pred_lda = lda.predict(x_test)\n",
    "print(classification_report(y_test, y_pred_lda, digits=3))\n",
    "accuracy_score(y_test, y_pred_lda)"
   ]
  },
  {
   "cell_type": "code",
   "execution_count": 21,
   "metadata": {},
   "outputs": [
    {
     "name": "stderr",
     "output_type": "stream",
     "text": [
      "/Users/Nargess/anaconda/lib/python3.6/site-packages/sklearn/discriminant_analysis.py:695: UserWarning: Variables are collinear\n",
      "  warnings.warn(\"Variables are collinear\")\n"
     ]
    },
    {
     "name": "stdout",
     "output_type": "stream",
     "text": [
      "             precision    recall  f1-score   support\n",
      "\n",
      "          0      0.984     0.176     0.299     18712\n",
      "          1      0.505     0.997     0.670     15767\n",
      "\n",
      "avg / total      0.765     0.551     0.469     34479\n",
      "\n"
     ]
    }
   ],
   "source": [
    "qda = QuadraticDiscriminantAnalysis(reg_param=0.1) #try changing this reg_param and see the different results\n",
    "qda.fit(x_train, y_train)\n",
    "\n",
    "y_pred_qda = qda.predict(x_test)\n",
    "print(classification_report(y_test, y_pred_qda, digits=3))"
   ]
  },
  {
   "cell_type": "code",
   "execution_count": null,
   "metadata": {
    "collapsed": true
   },
   "outputs": [],
   "source": []
  }
 ],
 "metadata": {
  "kernelspec": {
   "display_name": "Python 3",
   "language": "python",
   "name": "python3"
  },
  "language_info": {
   "codemirror_mode": {
    "name": "ipython",
    "version": 3
   },
   "file_extension": ".py",
   "mimetype": "text/x-python",
   "name": "python",
   "nbconvert_exporter": "python",
   "pygments_lexer": "ipython3",
   "version": "3.6.3"
  }
 },
 "nbformat": 4,
 "nbformat_minor": 2
}
